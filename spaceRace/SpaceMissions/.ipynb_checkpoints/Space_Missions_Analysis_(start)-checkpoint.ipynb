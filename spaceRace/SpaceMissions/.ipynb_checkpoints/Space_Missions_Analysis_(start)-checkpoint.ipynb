{
 "cells": [
  {
   "cell_type": "markdown",
   "metadata": {
    "id": "ka_FkvXBiABo"
   },
   "source": [
    "# Introduction"
   ]
  },
  {
   "cell_type": "markdown",
   "metadata": {
    "id": "AWaMmfxXa-p0",
    "papermill": {
     "duration": 0.035434,
     "end_time": "2020-10-20T21:34:01.886225",
     "exception": false,
     "start_time": "2020-10-20T21:34:01.850791",
     "status": "completed"
    },
    "tags": []
   },
   "source": [
    "<center><img src=\"https://i.imgur.com/9hLRsjZ.jpg\" height=400></center>\n",
    "\n",
    "This dataset was scraped from [nextspaceflight.com](https://nextspaceflight.com/launches/past/?page=1) and includes all the space missions since the beginning of Space Race between the USA and the Soviet Union in 1957!"
   ]
  },
  {
   "cell_type": "markdown",
   "metadata": {
    "id": "ufzKRKS3bV0r"
   },
   "source": [
    "### Install Package with Country Codes"
   ]
  },
  {
   "cell_type": "code",
   "execution_count": 8,
   "metadata": {
    "colab": {
     "base_uri": "https://localhost:8080/"
    },
    "id": "0HxV9o6dbRUE",
    "outputId": "35464d43-d601-4b8f-81fd-6dbd400167f5"
   },
   "outputs": [
    {
     "name": "stdout",
     "output_type": "stream",
     "text": [
      "Requirement already satisfied: iso3166 in c:\\users\\bodem\\anaconda3\\lib\\site-packages (2.1.1)\n",
      "Note: you may need to restart the kernel to use updated packages.\n"
     ]
    }
   ],
   "source": [
    "%pip install iso3166"
   ]
  },
  {
   "cell_type": "markdown",
   "metadata": {
    "id": "sghkhFoLbof8"
   },
   "source": [
    "### Upgrade Plotly\n",
    "\n",
    "Run the cell below if you are working with Google Colab."
   ]
  },
  {
   "cell_type": "code",
   "execution_count": 9,
   "metadata": {
    "colab": {
     "base_uri": "https://localhost:8080/"
    },
    "id": "gQ61wy9gbmxd",
    "outputId": "99185d87-acb8-4237-c0f7-bfb18bfd4d39"
   },
   "outputs": [
    {
     "name": "stdout",
     "output_type": "stream",
     "text": [
      "Requirement already satisfied: plotly in c:\\users\\bodem\\anaconda3\\lib\\site-packages (6.0.1)\n",
      "Requirement already satisfied: narwhals>=1.15.1 in c:\\users\\bodem\\anaconda3\\lib\\site-packages (from plotly) (1.37.0)\n",
      "Requirement already satisfied: packaging in c:\\users\\bodem\\anaconda3\\lib\\site-packages (from plotly) (24.1)\n",
      "Note: you may need to restart the kernel to use updated packages.\n"
     ]
    }
   ],
   "source": [
    "%pip install --upgrade plotly"
   ]
  },
  {
   "cell_type": "markdown",
   "metadata": {
    "id": "ErFDBihUi1jN"
   },
   "source": [
    "### Import Statements"
   ]
  },
  {
   "cell_type": "code",
   "execution_count": 2,
   "metadata": {
    "_cell_guid": "b1076dfc-b9ad-4769-8c92-a6c4dae69d19",
    "_kg_hide-input": true,
    "_kg_hide-output": true,
    "_uuid": "8f2839f25d086af736a60e9eeb907d3b93b6e0e5",
    "colab": {
     "base_uri": "https://localhost:8080/"
    },
    "id": "xdolY0-Sa-p1",
    "outputId": "7142dedb-82e9-457d-db44-cea4e121bdfe",
    "papermill": {
     "duration": 1.665326,
     "end_time": "2020-10-20T21:34:03.726995",
     "exception": false,
     "start_time": "2020-10-20T21:34:02.061669",
     "status": "completed"
    },
    "tags": []
   },
   "outputs": [],
   "source": [
    "import numpy as np\n",
    "import pandas as pd\n",
    "import plotly.express as px\n",
    "import matplotlib.pyplot as plt\n",
    "import matplotlib.ticker as ticker\n",
    "import seaborn as sns\n",
    "\n",
    "# These might be helpful:\n",
    "from iso3166 import countries\n",
    "from datetime import datetime, timedelta"
   ]
  },
  {
   "cell_type": "markdown",
   "metadata": {
    "id": "lovGPRgKxIgo"
   },
   "source": [
    "### Notebook Presentation"
   ]
  },
  {
   "cell_type": "code",
   "execution_count": 3,
   "metadata": {
    "id": "DHEULCOjxIIm"
   },
   "outputs": [],
   "source": [
    "pd.options.display.float_format = '{:,.2f}'.format"
   ]
  },
  {
   "cell_type": "markdown",
   "metadata": {
    "id": "yaT3QbjEa-p4",
    "papermill": {
     "duration": 0.034606,
     "end_time": "2020-10-20T21:34:03.798396",
     "exception": false,
     "start_time": "2020-10-20T21:34:03.763790",
     "status": "completed"
    },
    "tags": []
   },
   "source": [
    "### Load the Data"
   ]
  },
  {
   "cell_type": "code",
   "execution_count": 4,
   "metadata": {
    "_cell_guid": "79c7e3d0-c299-4dcb-8224-4455121ee9b0",
    "_kg_hide-input": true,
    "_uuid": "d629ff2d2480ee46fbb7e2d37f6b5fab8052498a",
    "id": "0lDOu8aka-p4",
    "papermill": {
     "duration": 0.08876,
     "end_time": "2020-10-20T21:34:03.922028",
     "exception": false,
     "start_time": "2020-10-20T21:34:03.833268",
     "status": "completed"
    },
    "tags": []
   },
   "outputs": [],
   "source": [
    "df_data = pd.read_csv('mission_launches.csv')"
   ]
  },
  {
   "cell_type": "markdown",
   "metadata": {
    "id": "jAnMiVcVjuKB"
   },
   "source": [
    "# Preliminary Data Exploration\n",
    "\n",
    "* What is the shape of `df_data`? \n",
    "* How many rows and columns does it have?\n",
    "* What are the column names?\n",
    "* Are there any NaN values or duplicates?"
   ]
  },
  {
   "cell_type": "code",
   "execution_count": 8,
   "metadata": {
    "id": "0tIuYcYNlPFQ"
   },
   "outputs": [
    {
     "name": "stdout",
     "output_type": "stream",
     "text": [
      "Number of columns: 9\n",
      "Number of rows: 4324\n",
      "The shape is (4324, 9)\n"
     ]
    },
    {
     "data": {
      "text/plain": [
       "Index(['Unnamed: 0.1', 'Unnamed: 0', 'Organisation', 'Location', 'Date',\n",
       "       'Detail', 'Rocket_Status', 'Price', 'Mission_Status'],\n",
       "      dtype='object')"
      ]
     },
     "execution_count": 8,
     "metadata": {},
     "output_type": "execute_result"
    }
   ],
   "source": [
    "# Finding the shape\n",
    "print(f\"Number of columns: {df_data.shape[1]}\\nNumber of rows: {df_data.shape[0]}\")\n",
    "print(f\"The shape is {df_data.shape}\")\n",
    "# Finding the names of columns\n",
    "df_data.columns"
   ]
  },
  {
   "cell_type": "code",
   "execution_count": 10,
   "metadata": {
    "id": "0dw2hd9UlPmP"
   },
   "outputs": [
    {
     "name": "stdout",
     "output_type": "stream",
     "text": [
      "NaN values exist\n"
     ]
    }
   ],
   "source": [
    "# Check for NaN\n",
    "if df_data.isna().any().any() == True:\n",
    "    print(\"NaN values exist\")\n",
    "else:\n",
    "    print(\"No NaN values\")"
   ]
  },
  {
   "cell_type": "markdown",
   "metadata": {
    "id": "KUN30y6ja-p9",
    "papermill": {
     "duration": 0.05406,
     "end_time": "2020-10-20T21:34:04.149973",
     "exception": false,
     "start_time": "2020-10-20T21:34:04.095913",
     "status": "completed"
    },
    "tags": []
   },
   "source": [
    "## Data Cleaning - Check for Missing Values and Duplicates\n",
    "\n",
    "Consider removing columns containing junk data. "
   ]
  },
  {
   "cell_type": "code",
   "execution_count": 12,
   "metadata": {
    "id": "wWQvnJb0k2Ig"
   },
   "outputs": [],
   "source": [
    "# finding rows with NaN values\n",
    "nan_data = df_data[df_data.isna().any(axis=1)]"
   ]
  },
  {
   "cell_type": "code",
   "execution_count": 14,
   "metadata": {
    "id": "SfxVooCYk2As"
   },
   "outputs": [
    {
     "name": "stdout",
     "output_type": "stream",
     "text": [
      "Shape of the new dataframe after removing all NaN values: (964, 9)\n"
     ]
    }
   ],
   "source": [
    "# remove rows with values\n",
    "clean_data = df_data.drop(nan_data.index)\n",
    "print(f\"Shape of the new dataframe after removing all NaN values: {clean_data.shape}\")"
   ]
  },
  {
   "cell_type": "markdown",
   "metadata": {
    "id": "QHon_T5sa-p_",
    "papermill": {
     "duration": 0.036712,
     "end_time": "2020-10-20T21:34:05.227032",
     "exception": false,
     "start_time": "2020-10-20T21:34:05.190320",
     "status": "completed"
    },
    "tags": []
   },
   "source": [
    "## Descriptive Statistics"
   ]
  },
  {
   "cell_type": "code",
   "execution_count": 16,
   "metadata": {
    "id": "Fh1-libjkJIK"
   },
   "outputs": [
    {
     "data": {
      "text/html": [
       "<div>\n",
       "<style scoped>\n",
       "    .dataframe tbody tr th:only-of-type {\n",
       "        vertical-align: middle;\n",
       "    }\n",
       "\n",
       "    .dataframe tbody tr th {\n",
       "        vertical-align: top;\n",
       "    }\n",
       "\n",
       "    .dataframe thead th {\n",
       "        text-align: right;\n",
       "    }\n",
       "</style>\n",
       "<table border=\"1\" class=\"dataframe\">\n",
       "  <thead>\n",
       "    <tr style=\"text-align: right;\">\n",
       "      <th></th>\n",
       "      <th>Unnamed: 0.1</th>\n",
       "      <th>Unnamed: 0</th>\n",
       "    </tr>\n",
       "  </thead>\n",
       "  <tbody>\n",
       "    <tr>\n",
       "      <th>count</th>\n",
       "      <td>964.00</td>\n",
       "      <td>964.00</td>\n",
       "    </tr>\n",
       "    <tr>\n",
       "      <th>mean</th>\n",
       "      <td>858.49</td>\n",
       "      <td>858.49</td>\n",
       "    </tr>\n",
       "    <tr>\n",
       "      <th>std</th>\n",
       "      <td>784.21</td>\n",
       "      <td>784.21</td>\n",
       "    </tr>\n",
       "    <tr>\n",
       "      <th>min</th>\n",
       "      <td>0.00</td>\n",
       "      <td>0.00</td>\n",
       "    </tr>\n",
       "    <tr>\n",
       "      <th>25%</th>\n",
       "      <td>324.75</td>\n",
       "      <td>324.75</td>\n",
       "    </tr>\n",
       "    <tr>\n",
       "      <th>50%</th>\n",
       "      <td>660.50</td>\n",
       "      <td>660.50</td>\n",
       "    </tr>\n",
       "    <tr>\n",
       "      <th>75%</th>\n",
       "      <td>1,112.00</td>\n",
       "      <td>1,112.00</td>\n",
       "    </tr>\n",
       "    <tr>\n",
       "      <th>max</th>\n",
       "      <td>4,020.00</td>\n",
       "      <td>4,020.00</td>\n",
       "    </tr>\n",
       "  </tbody>\n",
       "</table>\n",
       "</div>"
      ],
      "text/plain": [
       "       Unnamed: 0.1  Unnamed: 0\n",
       "count        964.00      964.00\n",
       "mean         858.49      858.49\n",
       "std          784.21      784.21\n",
       "min            0.00        0.00\n",
       "25%          324.75      324.75\n",
       "50%          660.50      660.50\n",
       "75%        1,112.00    1,112.00\n",
       "max        4,020.00    4,020.00"
      ]
     },
     "execution_count": 16,
     "metadata": {},
     "output_type": "execute_result"
    }
   ],
   "source": [
    "# Describe the new or clean dataframe\n",
    "clean_data.describe()"
   ]
  },
  {
   "cell_type": "code",
   "execution_count": 18,
   "metadata": {
    "id": "dGZa5HdbkJBT"
   },
   "outputs": [
    {
     "name": "stdout",
     "output_type": "stream",
     "text": [
      "<class 'pandas.core.frame.DataFrame'>\n",
      "Index: 964 entries, 0 to 4020\n",
      "Data columns (total 9 columns):\n",
      " #   Column          Non-Null Count  Dtype \n",
      "---  ------          --------------  ----- \n",
      " 0   Unnamed: 0.1    964 non-null    int64 \n",
      " 1   Unnamed: 0      964 non-null    int64 \n",
      " 2   Organisation    964 non-null    object\n",
      " 3   Location        964 non-null    object\n",
      " 4   Date            964 non-null    object\n",
      " 5   Detail          964 non-null    object\n",
      " 6   Rocket_Status   964 non-null    object\n",
      " 7   Price           964 non-null    object\n",
      " 8   Mission_Status  964 non-null    object\n",
      "dtypes: int64(2), object(7)\n",
      "memory usage: 75.3+ KB\n"
     ]
    }
   ],
   "source": [
    "clean_data.info()"
   ]
  },
  {
   "cell_type": "markdown",
   "metadata": {
    "id": "cgCjcpeUkKPW"
   },
   "source": [
    "# Number of Launches per Company\n",
    "\n",
    "Create a chart that shows the number of space mission launches by organisation."
   ]
  },
  {
   "cell_type": "code",
   "execution_count": 107,
   "metadata": {
    "id": "rxvcIrtskxYB"
   },
   "outputs": [
    {
     "data": {
      "text/html": [
       "<div>\n",
       "<style scoped>\n",
       "    .dataframe tbody tr th:only-of-type {\n",
       "        vertical-align: middle;\n",
       "    }\n",
       "\n",
       "    .dataframe tbody tr th {\n",
       "        vertical-align: top;\n",
       "    }\n",
       "\n",
       "    .dataframe thead th {\n",
       "        text-align: right;\n",
       "    }\n",
       "</style>\n",
       "<table border=\"1\" class=\"dataframe\">\n",
       "  <thead>\n",
       "    <tr style=\"text-align: right;\">\n",
       "      <th></th>\n",
       "      <th>Organizations Name</th>\n",
       "      <th>Total Number of Mission Per Organization</th>\n",
       "    </tr>\n",
       "  </thead>\n",
       "  <tbody>\n",
       "    <tr>\n",
       "      <th>2</th>\n",
       "      <td>CASC</td>\n",
       "      <td>158</td>\n",
       "    </tr>\n",
       "    <tr>\n",
       "      <th>14</th>\n",
       "      <td>NASA</td>\n",
       "      <td>149</td>\n",
       "    </tr>\n",
       "    <tr>\n",
       "      <th>20</th>\n",
       "      <td>SpaceX</td>\n",
       "      <td>99</td>\n",
       "    </tr>\n",
       "    <tr>\n",
       "      <th>21</th>\n",
       "      <td>ULA</td>\n",
       "      <td>98</td>\n",
       "    </tr>\n",
       "    <tr>\n",
       "      <th>0</th>\n",
       "      <td>Arianespace</td>\n",
       "      <td>96</td>\n",
       "    </tr>\n",
       "    <tr>\n",
       "      <th>15</th>\n",
       "      <td>Northrop</td>\n",
       "      <td>83</td>\n",
       "    </tr>\n",
       "    <tr>\n",
       "      <th>8</th>\n",
       "      <td>ISRO</td>\n",
       "      <td>67</td>\n",
       "    </tr>\n",
       "    <tr>\n",
       "      <th>12</th>\n",
       "      <td>MHI</td>\n",
       "      <td>37</td>\n",
       "    </tr>\n",
       "    <tr>\n",
       "      <th>23</th>\n",
       "      <td>VKS RF</td>\n",
       "      <td>33</td>\n",
       "    </tr>\n",
       "    <tr>\n",
       "      <th>22</th>\n",
       "      <td>US Air Force</td>\n",
       "      <td>26</td>\n",
       "    </tr>\n",
       "    <tr>\n",
       "      <th>18</th>\n",
       "      <td>Roscosmos</td>\n",
       "      <td>23</td>\n",
       "    </tr>\n",
       "    <tr>\n",
       "      <th>10</th>\n",
       "      <td>Kosmotras</td>\n",
       "      <td>22</td>\n",
       "    </tr>\n",
       "    <tr>\n",
       "      <th>7</th>\n",
       "      <td>ILS</td>\n",
       "      <td>13</td>\n",
       "    </tr>\n",
       "    <tr>\n",
       "      <th>5</th>\n",
       "      <td>Eurockot</td>\n",
       "      <td>13</td>\n",
       "    </tr>\n",
       "    <tr>\n",
       "      <th>17</th>\n",
       "      <td>Rocket Lab</td>\n",
       "      <td>13</td>\n",
       "    </tr>\n",
       "    <tr>\n",
       "      <th>13</th>\n",
       "      <td>Martin Marietta</td>\n",
       "      <td>9</td>\n",
       "    </tr>\n",
       "    <tr>\n",
       "      <th>11</th>\n",
       "      <td>Lockheed</td>\n",
       "      <td>8</td>\n",
       "    </tr>\n",
       "    <tr>\n",
       "      <th>1</th>\n",
       "      <td>Boeing</td>\n",
       "      <td>7</td>\n",
       "    </tr>\n",
       "    <tr>\n",
       "      <th>9</th>\n",
       "      <td>JAXA</td>\n",
       "      <td>3</td>\n",
       "    </tr>\n",
       "    <tr>\n",
       "      <th>16</th>\n",
       "      <td>RVSN USSR</td>\n",
       "      <td>2</td>\n",
       "    </tr>\n",
       "    <tr>\n",
       "      <th>4</th>\n",
       "      <td>ESA</td>\n",
       "      <td>1</td>\n",
       "    </tr>\n",
       "    <tr>\n",
       "      <th>3</th>\n",
       "      <td>EER</td>\n",
       "      <td>1</td>\n",
       "    </tr>\n",
       "    <tr>\n",
       "      <th>19</th>\n",
       "      <td>Sandia</td>\n",
       "      <td>1</td>\n",
       "    </tr>\n",
       "    <tr>\n",
       "      <th>6</th>\n",
       "      <td>ExPace</td>\n",
       "      <td>1</td>\n",
       "    </tr>\n",
       "    <tr>\n",
       "      <th>24</th>\n",
       "      <td>Virgin Orbit</td>\n",
       "      <td>1</td>\n",
       "    </tr>\n",
       "  </tbody>\n",
       "</table>\n",
       "</div>"
      ],
      "text/plain": [
       "   Organizations Name  Total Number of Mission Per Organization\n",
       "2                CASC                                       158\n",
       "14               NASA                                       149\n",
       "20             SpaceX                                        99\n",
       "21                ULA                                        98\n",
       "0         Arianespace                                        96\n",
       "15           Northrop                                        83\n",
       "8                ISRO                                        67\n",
       "12                MHI                                        37\n",
       "23             VKS RF                                        33\n",
       "22       US Air Force                                        26\n",
       "18          Roscosmos                                        23\n",
       "10          Kosmotras                                        22\n",
       "7                 ILS                                        13\n",
       "5            Eurockot                                        13\n",
       "17         Rocket Lab                                        13\n",
       "13    Martin Marietta                                         9\n",
       "11           Lockheed                                         8\n",
       "1              Boeing                                         7\n",
       "9                JAXA                                         3\n",
       "16          RVSN USSR                                         2\n",
       "4                 ESA                                         1\n",
       "3                 EER                                         1\n",
       "19             Sandia                                         1\n",
       "6              ExPace                                         1\n",
       "24       Virgin Orbit                                         1"
      ]
     },
     "execution_count": 107,
     "metadata": {},
     "output_type": "execute_result"
    }
   ],
   "source": [
    "clean_data.head(10)\n",
    "# group organizations\n",
    "grouped_organizations = clean_data.groupby('Organisation').size().reset_index(name='Mission_Status')\n",
    "# Sort in descending orders\n",
    "mission_per_org = grouped_organizations.sort_values(by = \"Mission_Status\", ascending = False)\n",
    "# renaming Mission_Status to Total Mission Per Organization\n",
    "mission_per_org = mission_per_org.rename(columns={\n",
    "    'Mission_Status': 'Total Number of Mission Per Organization','Organisation':'Organizations Name'})\n",
    "mission_per_org"
   ]
  },
  {
   "cell_type": "code",
   "execution_count": 109,
   "metadata": {
    "id": "qgneHUbWkw5v"
   },
   "outputs": [
    {
     "data": {
      "image/png": "[encoded data removed]",
      "text/plain": [
       "<Figure size 1000x600 with 1 Axes>"
      ]
     },
     "metadata": {},
     "output_type": "display_data"
    }
   ],
   "source": [
    "# Set figure size\n",
    "plt.figure(figsize=(10,6))\n",
    "plt.bar(mission_per_org[\"Organizations Name\"], mission_per_org[\"Total Number of Mission Per Organization\"], color = 'blue')\n",
    "plt.title(\"Total Missions Launched by Organization\")\n",
    "plt.xlabel(\"Organization\")\n",
    "plt.ylabel(\"Number of Missions\")\n",
    "# Adjust x ticks\n",
    "plt.xticks(rotation=45)\n",
    "# Adjust layout to fit\n",
    "plt.tight_layout()\n",
    "plt.show()\n",
    "#grouped_organizations"
   ]
  },
  {
   "cell_type": "markdown",
   "metadata": {
    "id": "7Gwteht2kR_h"
   },
   "source": [
    "# Number of Active versus Retired Rockets\n",
    "\n",
    "How many rockets are active compared to those that are decomissioned? "
   ]
  },
  {
   "cell_type": "code",
   "execution_count": 115,
   "metadata": {
    "id": "SxmOWS9cmTq6"
   },
   "outputs": [
    {
     "name": "stdout",
     "output_type": "stream",
     "text": [
      "The number of active rocket is : 586\n"
     ]
    }
   ],
   "source": [
    "# Finding the numbers of active rockets\n",
    "active_rocket = clean_data[clean_data.Rocket_Status == \"StatusActive\"]\n",
    "print(f\"The number of active rocket is : {len(active_rocket)}\")"
   ]
  },
  {
   "cell_type": "code",
   "execution_count": 127,
   "metadata": {
    "id": "ydj0-OZ6mToH"
   },
   "outputs": [
    {
     "name": "stdout",
     "output_type": "stream",
     "text": [
      "Number of decomissioned rockets is: 378\n"
     ]
    }
   ],
   "source": [
    "# Finding the number of decomissioned rockets\n",
    "decomissioned_rockets = clean_data[clean_data.Rocket_Status == \"StatusRetired\"]\n",
    "print(f\"Number of decomissioned rockets is: {len(decomissioned_rockets)}\")"
   ]
  },
  {
   "cell_type": "markdown",
   "metadata": {
    "id": "y9WtP5xWkYkp"
   },
   "source": [
    "# Distribution of Mission Status\n",
    "\n",
    "How many missions were successful?\n",
    "How many missions failed?"
   ]
  },
  {
   "cell_type": "code",
   "execution_count": 137,
   "metadata": {
    "id": "83kY1alqmUhb"
   },
   "outputs": [
    {
     "name": "stdout",
     "output_type": "stream",
     "text": [
      "Number of successful mission is : 910\n"
     ]
    }
   ],
   "source": [
    "# Finding number of successful missions\n",
    "print(f\"Number of successful mission is : {len(clean_data[clean_data.Mission_Status == \"Success\"])}\")"
   ]
  },
  {
   "cell_type": "code",
   "execution_count": 181,
   "metadata": {
    "id": "bdmXcaopmUeZ"
   },
   "outputs": [
    {
     "name": "stdout",
     "output_type": "stream",
     "text": [
      "Number of failed mission: 36\n",
      "Number of partial failed mission: 17\n"
     ]
    }
   ],
   "source": [
    "# Number of Failed mission\n",
    "print(f\"Number of failed mission: {len(clean_data[clean_data.Mission_Status == \"Failure\"])}\")\n",
    "# Number of Partially failed mission\n",
    "print(f\"Number of partial failed mission: {len(clean_data[clean_data.Mission_Status == \"Partial Failure\"])}\")"
   ]
  },
  {
   "cell_type": "markdown",
   "metadata": {
    "id": "jgTCihuoa-qH",
    "papermill": {
     "duration": 0.03854,
     "end_time": "2020-10-20T21:34:05.968626",
     "exception": false,
     "start_time": "2020-10-20T21:34:05.930086",
     "status": "completed"
    },
    "tags": []
   },
   "source": [
    "# How Expensive are the Launches? \n",
    "\n",
    "Create a histogram and visualise the distribution. The price column is given in USD millions (careful of missing values). "
   ]
  },
  {
   "cell_type": "code",
   "execution_count": 189,
   "metadata": {
    "id": "PLOMhzZFnSCO"
   },
   "outputs": [
    {
     "ename": "NameError",
     "evalue": "name 'ticker' is not defined",
     "output_type": "error",
     "traceback": [
      "\u001b[1;31m---------------------------------------------------------------------------\u001b[0m",
      "\u001b[1;31mNameError\u001b[0m                                 Traceback (most recent call last)",
      "Cell \u001b[1;32mIn[189], line 11\u001b[0m\n\u001b[0;32m      9\u001b[0m plt\u001b[38;5;241m.\u001b[39mxlabel(\u001b[38;5;124m\"\u001b[39m\u001b[38;5;124mPrices in USD\u001b[39m\u001b[38;5;124m\"\u001b[39m)\n\u001b[0;32m     10\u001b[0m plt\u001b[38;5;241m.\u001b[39mylabel(\u001b[38;5;124m\"\u001b[39m\u001b[38;5;124mNumber of Organizations\u001b[39m\u001b[38;5;124m\"\u001b[39m)\n\u001b[1;32m---> 11\u001b[0m plt\u001b[38;5;241m.\u001b[39mgca()\u001b[38;5;241m.\u001b[39myaxis\u001b[38;5;241m.\u001b[39mset_major_locator(ticker\u001b[38;5;241m.\u001b[39mMaxNLocator(integer\u001b[38;5;241m=\u001b[39m\u001b[38;5;28;01mTrue\u001b[39;00m))\n\u001b[0;32m     12\u001b[0m \u001b[38;5;66;03m# Adjust x ticks\u001b[39;00m\n\u001b[0;32m     13\u001b[0m plt\u001b[38;5;241m.\u001b[39mxticks(rotation\u001b[38;5;241m=\u001b[39m\u001b[38;5;241m90\u001b[39m)\n",
      "\u001b[1;31mNameError\u001b[0m: name 'ticker' is not defined"
     ]
    },
    {
     "data": {
      "image/png": "[encoded data removed]",
      "text/plain": [
       "<Figure size 640x480 with 1 Axes>"
      ]
     },
     "metadata": {},
     "output_type": "display_data"
    }
   ],
   "source": [
    "# histogram of average prices\n",
    "\n",
    "# Ensure that the price column contains numerical data\n",
    "clean_data[\"Price\"] = pd.to_numeric(clean_data[\"Price\"], errors='coerce') \n",
    "# Finding the average price\n",
    "avg_price = clean_data.groupby(\"Organisation\")[\"Price\"].mean()\n",
    "plt.hist(avg_price, bins = 5, edgecolor = 'black')\n",
    "plt.title(\"Visualize the missions price distribution\")\n",
    "plt.xlabel(\"Prices in USD\")\n",
    "plt.ylabel(\"Number of Organizations\")\n",
    "plt.gca().yaxis.set_major_locator(ticker.MaxNLocator(integer=True))\n",
    "# Adjust x ticks\n",
    "plt.xticks(rotation=90)\n",
    "# Adjust layout to fit\n",
    "plt.tight_layout()\n",
    "plt.show()"
   ]
  },
  {
   "cell_type": "code",
   "execution_count": null,
   "metadata": {
    "id": "ru0IcY4nnSFU"
   },
   "outputs": [],
   "source": []
  },
  {
   "cell_type": "markdown",
   "metadata": {
    "id": "QiNtigQDne3E"
   },
   "source": [
    "# Use a Choropleth Map to Show the Number of Launches by Country\n",
    "\n",
    "* Create a choropleth map using [the plotly documentation](https://plotly.com/python/choropleth-maps/)\n",
    "* Experiment with [plotly's available colours](https://plotly.com/python/builtin-colorscales/). I quite like the sequential colour `matter` on this map. \n",
    "* You'll need to extract a `country` feature as well as change the country names that no longer exist.\n",
    "\n",
    "Wrangle the Country Names\n",
    "\n",
    "You'll need to use a 3 letter country code for each country. You might have to change some country names.\n",
    "\n",
    "* Russia is the Russian Federation\n",
    "* New Mexico should be USA\n",
    "* Yellow Sea refers to China\n",
    "* Shahrud Missile Test Site should be Iran\n",
    "* Pacific Missile Range Facility should be USA\n",
    "* Barents Sea should be Russian Federation\n",
    "* Gran Canaria should be USA\n",
    "\n",
    "\n",
    "You can use the iso3166 package to convert the country names to Alpha3 format."
   ]
  },
  {
   "cell_type": "code",
   "execution_count": null,
   "metadata": {
    "id": "Y46-4GHrozhF"
   },
   "outputs": [],
   "source": []
  },
  {
   "cell_type": "code",
   "execution_count": null,
   "metadata": {
    "id": "ESGRWiX6ozZG"
   },
   "outputs": [],
   "source": []
  },
  {
   "cell_type": "markdown",
   "metadata": {
    "id": "F3pwYSUlo_AK"
   },
   "source": [
    "# Use a Choropleth Map to Show the Number of Failures by Country\n"
   ]
  },
  {
   "cell_type": "code",
   "execution_count": null,
   "metadata": {
    "id": "8BH4ICtro9I0"
   },
   "outputs": [],
   "source": []
  },
  {
   "cell_type": "code",
   "execution_count": null,
   "metadata": {
    "id": "sfw-q7Obo9GM"
   },
   "outputs": [],
   "source": []
  },
  {
   "cell_type": "markdown",
   "metadata": {
    "id": "9LqcqSrKa-qN",
    "papermill": {
     "duration": 0.039343,
     "end_time": "2020-10-20T21:34:06.591694",
     "exception": false,
     "start_time": "2020-10-20T21:34:06.552351",
     "status": "completed"
    },
    "tags": []
   },
   "source": [
    "# Create a Plotly Sunburst Chart of the countries, organisations, and mission status. "
   ]
  },
  {
   "cell_type": "code",
   "execution_count": null,
   "metadata": {
    "id": "MwUfpoByo3_J"
   },
   "outputs": [],
   "source": []
  },
  {
   "cell_type": "code",
   "execution_count": null,
   "metadata": {
    "id": "-ZwZkx1ro4X9"
   },
   "outputs": [],
   "source": []
  },
  {
   "cell_type": "code",
   "execution_count": null,
   "metadata": {
    "id": "VfTGp2hLo4Ok"
   },
   "outputs": [],
   "source": []
  },
  {
   "cell_type": "markdown",
   "metadata": {
    "id": "70pG1BCZa-qY",
    "papermill": {
     "duration": 0.062712,
     "end_time": "2020-10-20T21:34:07.951200",
     "exception": false,
     "start_time": "2020-10-20T21:34:07.888488",
     "status": "completed"
    },
    "tags": []
   },
   "source": [
    "# Analyse the Total Amount of Money Spent by Organisation on Space Missions"
   ]
  },
  {
   "cell_type": "code",
   "execution_count": null,
   "metadata": {
    "id": "IaJYxwEVpKHy"
   },
   "outputs": [],
   "source": []
  },
  {
   "cell_type": "code",
   "execution_count": null,
   "metadata": {
    "id": "orIFf-appPDL"
   },
   "outputs": [],
   "source": []
  },
  {
   "cell_type": "code",
   "execution_count": null,
   "metadata": {
    "id": "86OMPfpEpO7R"
   },
   "outputs": [],
   "source": []
  },
  {
   "cell_type": "markdown",
   "metadata": {
    "id": "DpsWkPxzpPXs"
   },
   "source": [
    "# Analyse the Amount of Money Spent by Organisation per Launch"
   ]
  },
  {
   "cell_type": "code",
   "execution_count": null,
   "metadata": {
    "id": "opYJ6GiRpTk5"
   },
   "outputs": [],
   "source": []
  },
  {
   "cell_type": "code",
   "execution_count": null,
   "metadata": {
    "id": "VEkHzAk2pTvj"
   },
   "outputs": [],
   "source": []
  },
  {
   "cell_type": "code",
   "execution_count": null,
   "metadata": {
    "id": "R5rFf501pKXD"
   },
   "outputs": [],
   "source": []
  },
  {
   "cell_type": "markdown",
   "metadata": {
    "id": "yRa1BbPoa-qf",
    "papermill": {
     "duration": 0.042662,
     "end_time": "2020-10-20T21:34:09.943196",
     "exception": false,
     "start_time": "2020-10-20T21:34:09.900534",
     "status": "completed"
    },
    "tags": []
   },
   "source": [
    "# Chart the Number of Launches per Year"
   ]
  },
  {
   "cell_type": "code",
   "execution_count": null,
   "metadata": {
    "id": "_9FohVh3pcAJ"
   },
   "outputs": [],
   "source": []
  },
  {
   "cell_type": "code",
   "execution_count": null,
   "metadata": {
    "id": "b2pggcZBpb4x"
   },
   "outputs": [],
   "source": []
  },
  {
   "cell_type": "markdown",
   "metadata": {
    "id": "NomJVLi3tIaM"
   },
   "source": [
    "# Chart the Number of Launches Month-on-Month until the Present\n",
    "\n",
    "Which month has seen the highest number of launches in all time? Superimpose a rolling average on the month on month time series chart. "
   ]
  },
  {
   "cell_type": "code",
   "execution_count": null,
   "metadata": {
    "id": "H1N2aBs5tH9z"
   },
   "outputs": [],
   "source": []
  },
  {
   "cell_type": "code",
   "execution_count": null,
   "metadata": {
    "id": "pfw0aX1lpdRv"
   },
   "outputs": [],
   "source": []
  },
  {
   "cell_type": "markdown",
   "metadata": {
    "id": "t-avMIZoa-qh",
    "papermill": {
     "duration": 0.044409,
     "end_time": "2020-10-20T21:34:10.162592",
     "exception": false,
     "start_time": "2020-10-20T21:34:10.118183",
     "status": "completed"
    },
    "tags": []
   },
   "source": [
    "# Launches per Month: Which months are most popular and least popular for launches?\n",
    "\n",
    "Some months have better weather than others. Which time of year seems to be best for space missions?"
   ]
  },
  {
   "cell_type": "code",
   "execution_count": null,
   "metadata": {
    "id": "zmtp5uBHppFG"
   },
   "outputs": [],
   "source": []
  },
  {
   "cell_type": "code",
   "execution_count": null,
   "metadata": {
    "id": "fnk2m_cpppJo"
   },
   "outputs": [],
   "source": []
  },
  {
   "cell_type": "markdown",
   "metadata": {
    "id": "dPQ_N_sfa-qo",
    "papermill": {
     "duration": 0.067915,
     "end_time": "2020-10-20T21:34:11.122539",
     "exception": false,
     "start_time": "2020-10-20T21:34:11.054624",
     "status": "completed"
    },
    "tags": []
   },
   "source": [
    "# How has the Launch Price varied Over Time? \n",
    "\n",
    "Create a line chart that shows the average price of rocket launches over time. "
   ]
  },
  {
   "cell_type": "code",
   "execution_count": null,
   "metadata": {
    "id": "hFc-2M5-qCrv"
   },
   "outputs": [],
   "source": []
  },
  {
   "cell_type": "code",
   "execution_count": null,
   "metadata": {
    "id": "ggYFiAsEqC6J"
   },
   "outputs": [],
   "source": []
  },
  {
   "cell_type": "markdown",
   "metadata": {
    "id": "8OYrWyiOa-qs",
    "papermill": {
     "duration": 0.047152,
     "end_time": "2020-10-20T21:34:11.681371",
     "exception": false,
     "start_time": "2020-10-20T21:34:11.634219",
     "status": "completed"
    },
    "tags": []
   },
   "source": [
    "# Chart the Number of Launches over Time by the Top 10 Organisations. \n",
    "\n",
    "How has the dominance of launches changed over time between the different players? "
   ]
  },
  {
   "cell_type": "code",
   "execution_count": null,
   "metadata": {
    "id": "RcsrPPpAqVFj"
   },
   "outputs": [],
   "source": []
  },
  {
   "cell_type": "code",
   "execution_count": null,
   "metadata": {
    "id": "1IgfafiyqWEe"
   },
   "outputs": [],
   "source": []
  },
  {
   "cell_type": "code",
   "execution_count": null,
   "metadata": {
    "id": "akCDKT8CqVjG"
   },
   "outputs": [],
   "source": []
  },
  {
   "cell_type": "markdown",
   "metadata": {
    "id": "6Cm8_ch6a-q7",
    "papermill": {
     "duration": 0.052399,
     "end_time": "2020-10-20T21:34:13.756781",
     "exception": false,
     "start_time": "2020-10-20T21:34:13.704382",
     "status": "completed"
    },
    "tags": []
   },
   "source": [
    "# Cold War Space Race: USA vs USSR\n",
    "\n",
    "The cold war lasted from the start of the dataset up until 1991. "
   ]
  },
  {
   "cell_type": "code",
   "execution_count": null,
   "metadata": {
    "id": "AcE_U8csrICL"
   },
   "outputs": [],
   "source": []
  },
  {
   "cell_type": "code",
   "execution_count": null,
   "metadata": {
    "id": "cOe_t4OmrHr9"
   },
   "outputs": [],
   "source": []
  },
  {
   "cell_type": "markdown",
   "metadata": {
    "id": "Os-3A5vLa-q9",
    "papermill": {
     "duration": 0.054318,
     "end_time": "2020-10-20T21:34:14.089604",
     "exception": false,
     "start_time": "2020-10-20T21:34:14.035286",
     "status": "completed"
    },
    "tags": []
   },
   "source": [
    "## Create a Plotly Pie Chart comparing the total number of launches of the USSR and the USA\n",
    "\n",
    "Hint: Remember to include former Soviet Republics like Kazakhstan when analysing the total number of launches. "
   ]
  },
  {
   "cell_type": "code",
   "execution_count": null,
   "metadata": {
    "id": "1irc6_W9rD59"
   },
   "outputs": [],
   "source": []
  },
  {
   "cell_type": "code",
   "execution_count": null,
   "metadata": {
    "id": "OhhuLQycrEE-"
   },
   "outputs": [],
   "source": []
  },
  {
   "cell_type": "markdown",
   "metadata": {
    "id": "0C29Zz4xa-rA",
    "papermill": {
     "duration": 0.052921,
     "end_time": "2020-10-20T21:34:14.340085",
     "exception": false,
     "start_time": "2020-10-20T21:34:14.287164",
     "status": "completed"
    },
    "tags": []
   },
   "source": [
    "## Create a Chart that Shows the Total Number of Launches Year-On-Year by the Two Superpowers"
   ]
  },
  {
   "cell_type": "code",
   "execution_count": null,
   "metadata": {
    "id": "9ISKvOiCrS73"
   },
   "outputs": [],
   "source": []
  },
  {
   "cell_type": "code",
   "execution_count": null,
   "metadata": {
    "id": "oCc7VTzGrTK-"
   },
   "outputs": [],
   "source": []
  },
  {
   "cell_type": "markdown",
   "metadata": {
    "id": "eWv4iZmra-rE",
    "papermill": {
     "duration": 0.079311,
     "end_time": "2020-10-20T21:34:14.933058",
     "exception": false,
     "start_time": "2020-10-20T21:34:14.853747",
     "status": "completed"
    },
    "tags": []
   },
   "source": [
    "## Chart the Total Number of Mission Failures Year on Year."
   ]
  },
  {
   "cell_type": "code",
   "execution_count": null,
   "metadata": {
    "id": "I-Zss5-Mre-4"
   },
   "outputs": [],
   "source": []
  },
  {
   "cell_type": "code",
   "execution_count": null,
   "metadata": {
    "id": "7Ps9Iq_crfYl"
   },
   "outputs": [],
   "source": []
  },
  {
   "cell_type": "markdown",
   "metadata": {
    "id": "XNp-NkrJriEF"
   },
   "source": [
    "## Chart the Percentage of Failures over Time\n",
    "\n",
    "Did failures go up or down over time? Did the countries get better at minimising risk and improving their chances of success over time? "
   ]
  },
  {
   "cell_type": "code",
   "execution_count": null,
   "metadata": {
    "id": "Kj3-zsI0rhOS"
   },
   "outputs": [],
   "source": []
  },
  {
   "cell_type": "code",
   "execution_count": null,
   "metadata": {
    "id": "nxnnzx89rwvH"
   },
   "outputs": [],
   "source": []
  },
  {
   "cell_type": "code",
   "execution_count": null,
   "metadata": {
    "id": "_TPWaaJ5r1Fz"
   },
   "outputs": [],
   "source": []
  },
  {
   "cell_type": "markdown",
   "metadata": {
    "id": "S5aOC7bGr2OX"
   },
   "source": [
    "# For Every Year Show which Country was in the Lead in terms of Total Number of Launches up to and including including 2020)\n",
    "\n",
    "Do the results change if we only look at the number of successful launches? "
   ]
  },
  {
   "cell_type": "code",
   "execution_count": null,
   "metadata": {
    "id": "_h0grIXKsOz_"
   },
   "outputs": [],
   "source": []
  },
  {
   "cell_type": "code",
   "execution_count": null,
   "metadata": {
    "id": "zgVysedmsOp4"
   },
   "outputs": [],
   "source": []
  },
  {
   "cell_type": "markdown",
   "metadata": {
    "id": "jQcqBfJ8serG"
   },
   "source": [
    "# Create a Year-on-Year Chart Showing the Organisation Doing the Most Number of Launches\n",
    "\n",
    "Which organisation was dominant in the 1970s and 1980s? Which organisation was dominant in 2018, 2019 and 2020? "
   ]
  },
  {
   "cell_type": "code",
   "execution_count": null,
   "metadata": {
    "id": "jc9ImQEWsztG"
   },
   "outputs": [],
   "source": []
  },
  {
   "cell_type": "code",
   "execution_count": null,
   "metadata": {
    "id": "r5frxzwlsz5W"
   },
   "outputs": [],
   "source": []
  },
  {
   "cell_type": "code",
   "execution_count": null,
   "metadata": {
    "id": "8vHKpuc5a-rc",
    "papermill": {
     "duration": 0.092403,
     "end_time": "2020-10-20T21:34:26.709168",
     "exception": false,
     "start_time": "2020-10-20T21:34:26.616765",
     "status": "completed"
    },
    "tags": []
   },
   "outputs": [],
   "source": []
  }
 ],
 "metadata": {
  "colab": {
   "name": "Space Missions Analysis (start).ipynb",
   "provenance": []
  },
  "kernelspec": {
   "display_name": "Python [conda env:base] *",
   "language": "python",
   "name": "conda-base-py"
  },
  "language_info": {
   "codemirror_mode": {
    "name": "ipython",
    "version": 3
   },
   "file_extension": ".py",
   "mimetype": "text/x-python",
   "name": "python",
   "nbconvert_exporter": "python",
   "pygments_lexer": "ipython3",
   "version": "3.12.7"
  },
  "papermill": {
   "duration": 28.468597,
   "end_time": "2020-10-20T21:34:26.910951",
   "environment_variables": {},
   "exception": null,
   "input_path": "__notebook__.ipynb",
   "output_path": "__notebook__.ipynb",
   "parameters": {},
   "start_time": "2020-10-20T21:33:58.442354",
   "version": "2.1.0"
  }
 },
 "nbformat": 4,
 "nbformat_minor": 4
}
